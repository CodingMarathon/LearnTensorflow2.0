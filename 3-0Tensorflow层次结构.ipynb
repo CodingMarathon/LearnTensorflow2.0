{
 "cells": [
  {
   "cell_type": "markdown",
   "metadata": {},
   "source": [
    "# TensorFlow的层次结构\n",
    "\n",
    "\n",
    "本章我们介绍TensorFlow中5个不同的层次结构：即硬件层，内核层，低阶API，中阶API，高阶API。并以线性回归为例，直观对比展示在不同层级实现模型的特点。\n",
    "\n",
    "TensorFlow的层次结构从低到高可以分成如下五层。\n",
    "\n",
    "最底层为硬件层，TensorFlow支持CPU、GPU或TPU加入计算资源池。\n",
    "\n",
    "第二层为C++实现的内核，kernel可以跨平台分布运行。\n",
    "\n",
    "第三层为Python实现的操作符，提供了封装C++内核的低级API指令，主要包括各种张量操作算子、计算图、自动微分.\n",
    "如tf.Variable,tf.constant,tf.function,tf.GradientTape,tf.nn.softmax...\n",
    "如果把模型比作一个房子，那么第三层API就是【模型之砖】。\n",
    "\n",
    "第四层为Python实现的模型组件，对低级API进行了函数封装，主要包括各种模型层，损失函数，优化器，数据管道，特征列等等。\n",
    "如tf.keras.layers,tf.keras.losses,tf.keras.metrics,tf.keras.optimizers,tf.data.DataSet,tf.feature_column...\n",
    "如果把模型比作一个房子，那么第四层API就是【模型之墙】。\n",
    "\n",
    "第五层为Python实现的模型成品，一般为按照OOP方式封装的高级API，主要为tf.keras.models提供的模型的类接口。\n",
    "如果把模型比作一个房子，那么第五层API就是模型本身，即【模型之屋】。"
   ]
  },
  {
   "cell_type": "markdown",
   "metadata": {},
   "source": [
    "<img src=\"./data/tensorflow_structure.jpg\">"
   ]
  },
  {
   "cell_type": "code",
   "execution_count": null,
   "metadata": {},
   "outputs": [],
   "source": []
  }
 ],
 "metadata": {
  "kernelspec": {
   "display_name": "Python [conda env:root] *",
   "language": "python",
   "name": "conda-root-py"
  },
  "language_info": {
   "codemirror_mode": {
    "name": "ipython",
    "version": 3
   },
   "file_extension": ".py",
   "mimetype": "text/x-python",
   "name": "python",
   "nbconvert_exporter": "python",
   "pygments_lexer": "ipython3",
   "version": "3.7.6"
  }
 },
 "nbformat": 4,
 "nbformat_minor": 4
}
