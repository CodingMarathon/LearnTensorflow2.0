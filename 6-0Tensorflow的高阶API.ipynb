{
 "cells": [
  {
   "cell_type": "markdown",
   "metadata": {},
   "source": [
    "# 六、TensorFlow的高阶API\n",
    "\n",
    "TensorFlow的高阶API主要是tensorflow.keras.models.\n",
    "\n",
    "本章我们主要详细介绍tensorflow.keras.models相关的以下内容。\n",
    "\n",
    "* 模型的构建（Sequential、functional API、Model子类化）\n",
    "\n",
    "* 模型的训练（内置fit方法、内置train_on_batch方法、自定义训练循环、单GPU训练模型、多GPU训练模型、TPU训练模型）\n",
    "\n",
    "* 模型的部署（tensorflow serving部署模型、使用spark(scala)调用tensorflow模型）"
   ]
  },
  {
   "cell_type": "code",
   "execution_count": null,
   "metadata": {},
   "outputs": [],
   "source": []
  }
 ],
 "metadata": {
  "kernelspec": {
   "display_name": "Python [conda env:root] *",
   "language": "python",
   "name": "conda-root-py"
  },
  "language_info": {
   "codemirror_mode": {
    "name": "ipython",
    "version": 3
   },
   "file_extension": ".py",
   "mimetype": "text/x-python",
   "name": "python",
   "nbconvert_exporter": "python",
   "pygments_lexer": "ipython3",
   "version": "3.7.6"
  }
 },
 "nbformat": 4,
 "nbformat_minor": 4
}
