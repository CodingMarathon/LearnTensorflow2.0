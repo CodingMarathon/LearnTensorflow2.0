{
 "cells": [
  {
   "cell_type": "markdown",
   "metadata": {},
   "source": [
    "# 五、TensorFlow的中阶API\n",
    "TensorFlow的中阶API主要包括:\n",
    "\n",
    "数据管道(tf.data)\n",
    "\n",
    "特征列(tf.feature_column)\n",
    "\n",
    "激活函数(tf.nn)\n",
    "\n",
    "模型层(tf.keras.layers)\n",
    "\n",
    "损失函数(tf.keras.losses)\n",
    "\n",
    "评估函数(tf.keras.metrics)\n",
    "\n",
    "优化器(tf.keras.optimizers)\n",
    "\n",
    "回调函数(tf.keras.callbacks)\n",
    "\n",
    "如果把模型比作一个房子，那么中阶API就是【模型之墙】。"
   ]
  }
 ],
 "metadata": {
  "kernelspec": {
   "display_name": "Python [conda env:root] *",
   "language": "python",
   "name": "conda-root-py"
  },
  "language_info": {
   "codemirror_mode": {
    "name": "ipython",
    "version": 3
   },
   "file_extension": ".py",
   "mimetype": "text/x-python",
   "name": "python",
   "nbconvert_exporter": "python",
   "pygments_lexer": "ipython3",
   "version": "3.7.6"
  }
 },
 "nbformat": 4,
 "nbformat_minor": 4
}
